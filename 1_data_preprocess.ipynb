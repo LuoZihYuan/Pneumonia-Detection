{
 "cells": [
  {
   "cell_type": "markdown",
   "metadata": {},
   "source": [
    "# **Pneumonia Detection**\n",
    "**A machine learning project for detecting pneumonia from chest X-ray images. It includes data preprocessing, feature extraction, and performance evaluation to aid early diagnosis.**\n",
    "\n",
    "## Data Preprocess"
   ]
  },
  {
   "cell_type": "code",
   "execution_count": 1,
   "metadata": {},
   "outputs": [],
   "source": [
    "import numpy as np\n",
    "import pandas as pd\n",
    "from pathlib import Path"
   ]
  },
  {
   "cell_type": "markdown",
   "metadata": {},
   "source": [
    "### Prepare Data Table"
   ]
  },
  {
   "cell_type": "code",
   "execution_count": 2,
   "metadata": {},
   "outputs": [
    {
     "name": "stderr",
     "output_type": "stream",
     "text": [
      "100%|██████████| 624/624 [00:15<00:00, 41.44it/s]\n"
     ]
    }
   ],
   "source": [
    "for phase in [\"train\", \"test\"]:\n",
    "  if not Path(f\"./data/pneumonia_{phase}_raw.csv\").is_file():\n",
    "    from skimage import io, color, transform\n",
    "    from tqdm import tqdm\n",
    "\n",
    "    image_paths = [str(posix) for posix in list(Path(f\"./data/{phase}/\").rglob(\"*.jpeg\"))]\n",
    "\n",
    "    image_pixels = []\n",
    "    for image_path in tqdm(image_paths):\n",
    "      image_file = io.imread(image_path)\n",
    "      if len(image_file.shape) == 3:\n",
    "        image_file = color.rgb2gray(image_file)\n",
    "      image_file = transform.resize(image_file, (224,224), preserve_range=True)\n",
    "      is_pneumonia = \"PNEUMONIA\" in image_path\n",
    "      image_pixels.append(np.append(image_file.flatten(), int(is_pneumonia)))\n",
    "    df_pneumonia = pd.DataFrame(image_pixels, columns=range(50177))\n",
    "    df_pneumonia.to_csv(f\"./data/pneumonia_{phase}_raw.csv\")"
   ]
  },
  {
   "cell_type": "markdown",
   "metadata": {},
   "source": [
    "### Prepare HOG Table"
   ]
  },
  {
   "cell_type": "code",
   "execution_count": 3,
   "metadata": {},
   "outputs": [
    {
     "name": "stderr",
     "output_type": "stream",
     "text": [
      "100%|██████████| 624/624 [00:19<00:00, 32.18it/s]\n"
     ]
    }
   ],
   "source": [
    "for phase in [\"train\", \"test\"]:\n",
    "  if not Path(f\"./data/pneumonia_{phase}_hog.csv\").is_file():\n",
    "    from skimage import io, color, transform, feature\n",
    "    from tqdm import tqdm\n",
    "\n",
    "    image_paths = [str(posix) for posix in list(Path(f\"./data/{phase}/\").rglob(\"*.jpeg\"))]\n",
    "\n",
    "    image_hogs = []\n",
    "    for image_path in tqdm(image_paths):\n",
    "      image_file = io.imread(image_path)\n",
    "      if len(image_file.shape) == 3:\n",
    "        image_file = color.rgb2gray(image_file)\n",
    "      image_file = transform.resize(image_file, (224,224), preserve_range=True)\n",
    "      image_hog = feature.hog(\n",
    "        image_file,\n",
    "        orientations=9,\n",
    "        pixels_per_cell=(8, 8),\n",
    "        cells_per_block=(2, 2),\n",
    "        block_norm='L2-Hys',\n",
    "        transform_sqrt=True,\n",
    "        feature_vector=True,\n",
    "        visualize=False\n",
    "      )\n",
    "      is_pneumonia = \"PNEUMONIA\" in image_path\n",
    "      image_hogs.append(np.append(image_hog, int(is_pneumonia)))\n",
    "    df_pneumonia_hog = pd.DataFrame(image_hogs, columns=range(26245))\n",
    "    df_pneumonia_hog.to_csv(f\"./data/pneumonia_{phase}_hog.csv\")"
   ]
  },
  {
   "cell_type": "markdown",
   "metadata": {},
   "source": [
    "### Prepare LBP Table"
   ]
  },
  {
   "cell_type": "code",
   "execution_count": 4,
   "metadata": {},
   "outputs": [
    {
     "name": "stderr",
     "output_type": "stream",
     "text": [
      "100%|██████████| 624/624 [00:17<00:00, 35.38it/s]\n"
     ]
    }
   ],
   "source": [
    "for phase in [\"train\", \"test\"]:\n",
    "  if not Path(f\"./data/pneumonia_{phase}_lbp.csv\").is_file():\n",
    "    from skimage import io, color, transform, feature\n",
    "    from tqdm import tqdm\n",
    "\n",
    "    image_paths = [str(posix) for posix in list(Path(f\"./data/{phase}/\").rglob(\"*.jpeg\"))]\n",
    "\n",
    "    image_lbps = []\n",
    "    for image_path in tqdm(image_paths):\n",
    "      image_file = io.imread(image_path)\n",
    "      if len(image_file.shape) == 3:\n",
    "        image_file = color.rgb2gray(image_file)\n",
    "      image_file = transform.resize(image_file, (224,224), preserve_range=True).astype(np.uint8)\n",
    "      image_lbp = feature.local_binary_pattern(image_file,24,3,\"uniform\")\n",
    "      image_hist, _ = np.histogram(image_lbp.ravel(), bins=26, range=(0, 26), density=True)\n",
    "      image_hist = image_hist.astype('float')\n",
    "      image_hist /= (image_hist.sum() + 1e-6)\n",
    "      is_pneumonia = \"PNEUMONIA\" in image_path\n",
    "      image_lbps.append(np.append(image_hist, int(is_pneumonia)))\n",
    "    df_pneumonia_lbp = pd.DataFrame(image_lbps, columns=range(27))\n",
    "    df_pneumonia_lbp.to_csv(f\"./data/pneumonia_{phase}_lbp.csv\")"
   ]
  }
 ],
 "metadata": {
  "kernelspec": {
   "display_name": "CS6220",
   "language": "python",
   "name": "python3"
  },
  "language_info": {
   "codemirror_mode": {
    "name": "ipython",
    "version": 3
   },
   "file_extension": ".py",
   "mimetype": "text/x-python",
   "name": "python",
   "nbconvert_exporter": "python",
   "pygments_lexer": "ipython3",
   "version": "3.12.8"
  }
 },
 "nbformat": 4,
 "nbformat_minor": 2
}
